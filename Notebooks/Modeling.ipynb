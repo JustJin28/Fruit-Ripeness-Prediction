{
 "cells": [
  {
   "cell_type": "markdown",
   "id": "b5f165a4",
   "metadata": {},
   "source": [
    "### Modeling\n",
    "\n",
    "Lessons from first modeling notebook\n",
    "\n",
    "Using around 3-5 diverse base models is a good starting point. (I used 3 in the first notebook and it seemed to be ok)\n",
    "\n",
    "Including a CNN as one of the base models is a good idea, especially since CNNs are powerful for image data. (Training accuracy was always > 80% \n",
    "\n",
    "train and evaluate each model independently before adding it to the ensemble. (I was kindof doing this but only as it appeard when the code was running.)"
   ]
  },
  {
   "cell_type": "markdown",
   "id": "80739dc9",
   "metadata": {},
   "source": [
    "### Plan\n",
    "\n",
    "Define and Train Diverse Models\n",
    "\n",
    "Evaluate and Select Models\n",
    "\n",
    "Combine Models in an Ensemble"
   ]
  },
  {
   "cell_type": "code",
   "execution_count": 36,
   "id": "72c7b536",
   "metadata": {},
   "outputs": [],
   "source": [
    "# Import necessary libraries\n",
    "import sys\n",
    "import os\n",
    "import numpy as np\n",
    "from sklearn.model_selection import train_test_split\n",
    "from sklearn.ensemble import RandomForestClassifier, GradientBoostingClassifier\n",
    "from sklearn.svm import SVC\n",
    "from sklearn.linear_model import LogisticRegression\n",
    "from sklearn.metrics import accuracy_score, confusion_matrix, classification_report\n",
    "import tensorflow as tf\n",
    "from tensorflow.keras.models import Sequential\n",
    "from tensorflow.keras.layers import Conv2D, MaxPooling2D, Flatten, Dense, Dropout, BatchNormalization\n",
    "from tensorflow.keras.preprocessing.image import ImageDataGenerator\n",
    "import joblib\n",
    "\n",
    "# Add the parent directory to the sys.path\n",
    "sys.path.append(os.path.abspath(os.path.join(os.getcwd(), '..')))\n",
    "\n",
    "# Import the functions from the utils script\n",
    "from utils import load_images_from_folder, prepare_data"
   ]
  },
  {
   "cell_type": "code",
   "execution_count": 3,
   "id": "86587d79",
   "metadata": {},
   "outputs": [],
   "source": [
    "dataset_path = \"../Raw Data/Fruit And Vegetable Diseases Dataset\"\n",
    "image_size = (224, 224)\n",
    "batch_size = 16"
   ]
  },
  {
   "cell_type": "code",
   "execution_count": 4,
   "id": "22ad140b",
   "metadata": {},
   "outputs": [
    {
     "name": "stderr",
     "output_type": "stream",
     "text": [
      "libpng warning: iCCP: known incorrect sRGB profile\n",
      "libpng warning: iCCP: known incorrect sRGB profile\n",
      "libpng warning: iCCP: known incorrect sRGB profile\n"
     ]
    }
   ],
   "source": [
    "# Prepare the data\n",
    "all_images, all_labels = prepare_data(\"../Raw Data/Fruit And Vegetable Diseases Dataset\")"
   ]
  },
  {
   "cell_type": "code",
   "execution_count": 5,
   "id": "49e03677",
   "metadata": {},
   "outputs": [
    {
     "name": "stdout",
     "output_type": "stream",
     "text": [
      "Training set shape: (23432, 224, 224, 3) (23432,)\n",
      "Validation set shape: (2929, 224, 224, 3) (2929,)\n",
      "Test set shape: (2930, 224, 224, 3) (2930,)\n"
     ]
    }
   ],
   "source": [
    "# Split the dataset into training, validation, and test sets\n",
    "X_train, X_temp, y_train, y_temp = train_test_split(all_images, all_labels, test_size=0.2, random_state=42)\n",
    "X_val, X_test, y_val, y_test = train_test_split(X_temp, y_temp, test_size=0.5, random_state=42)\n",
    "\n",
    "print(\"Training set shape:\", X_train.shape, y_train.shape)\n",
    "print(\"Validation set shape:\", X_val.shape, y_val.shape)\n",
    "print(\"Test set shape:\", X_test.shape, y_test.shape)"
   ]
  },
  {
   "cell_type": "code",
   "execution_count": 6,
   "id": "1d21f06d",
   "metadata": {},
   "outputs": [],
   "source": [
    "# CNN Model\n",
    "def build_cnn(input_shape):\n",
    "    model = Sequential([\n",
    "        Conv2D(32, (3, 3), activation='relu', input_shape=input_shape),\n",
    "        BatchNormalization(),\n",
    "        MaxPooling2D((2, 2)),\n",
    "        Dropout(0.3),\n",
    "        Conv2D(64, (3, 3), activation='relu'),\n",
    "        BatchNormalization(),\n",
    "        MaxPooling2D((2, 2)),\n",
    "        Dropout(0.3),\n",
    "        Conv2D(128, (3, 3), activation='relu'),\n",
    "        BatchNormalization(),\n",
    "        MaxPooling2D((2, 2)),\n",
    "        Dropout(0.3),\n",
    "        Flatten(),\n",
    "        Dense(512, activation='relu'),\n",
    "        Dropout(0.5),\n",
    "        Dense(1, activation='sigmoid')\n",
    "    ])\n",
    "    model.compile(optimizer='adam', loss='binary_crossentropy', metrics=['accuracy'])\n",
    "    return model"
   ]
  },
  {
   "cell_type": "code",
   "execution_count": 7,
   "id": "616f417e",
   "metadata": {},
   "outputs": [],
   "source": [
    "# Prepare Image Data Generator\n",
    "datagen = ImageDataGenerator(\n",
    "    rotation_range=10,\n",
    "    width_shift_range=0.2,\n",
    "    height_shift_range=0.2,\n",
    "    shear_range=0.2,\n",
    "    zoom_range=0.2,\n",
    "    horizontal_flip=True,\n",
    "    fill_mode='nearest'\n",
    ")"
   ]
  },
  {
   "cell_type": "code",
   "execution_count": 8,
   "id": "315b8b7d",
   "metadata": {},
   "outputs": [],
   "source": [
    "train_generator = datagen.flow(X_train, y_train, batch_size=16)"
   ]
  },
  {
   "cell_type": "code",
   "execution_count": 9,
   "id": "8ba569d0",
   "metadata": {},
   "outputs": [],
   "source": [
    "validation_generator = ImageDataGenerator().flow(X_val, y_val, batch_size=16)"
   ]
  },
  {
   "cell_type": "code",
   "execution_count": 10,
   "id": "6dafd286",
   "metadata": {},
   "outputs": [
    {
     "name": "stderr",
     "output_type": "stream",
     "text": [
      "/Users/jin/anaconda3/lib/python3.11/site-packages/keras/src/layers/convolutional/base_conv.py:107: UserWarning: Do not pass an `input_shape`/`input_dim` argument to a layer. When using Sequential models, prefer using an `Input(shape)` object as the first layer in the model instead.\n",
      "  super().__init__(activity_regularizer=activity_regularizer, **kwargs)\n"
     ]
    },
    {
     "name": "stdout",
     "output_type": "stream",
     "text": [
      "Epoch 1/10\n"
     ]
    },
    {
     "name": "stderr",
     "output_type": "stream",
     "text": [
      "/Users/jin/anaconda3/lib/python3.11/site-packages/keras/src/trainers/data_adapters/py_dataset_adapter.py:121: UserWarning: Your `PyDataset` class should call `super().__init__(**kwargs)` in its constructor. `**kwargs` can include `workers`, `use_multiprocessing`, `max_queue_size`. Do not pass these arguments to `fit()`, as they will be ignored.\n",
      "  self._warn_if_super_not_called()\n"
     ]
    },
    {
     "name": "stdout",
     "output_type": "stream",
     "text": [
      "\u001b[1m1465/1465\u001b[0m \u001b[32m━━━━━━━━━━━━━━━━━━━━\u001b[0m\u001b[37m\u001b[0m \u001b[1m498s\u001b[0m 338ms/step - accuracy: 0.6346 - loss: 4.0974 - val_accuracy: 0.6859 - val_loss: 0.7238\n",
      "Epoch 2/10\n",
      "\u001b[1m1465/1465\u001b[0m \u001b[32m━━━━━━━━━━━━━━━━━━━━\u001b[0m\u001b[37m\u001b[0m \u001b[1m496s\u001b[0m 338ms/step - accuracy: 0.6750 - loss: 0.6182 - val_accuracy: 0.5097 - val_loss: 0.9717\n",
      "Epoch 3/10\n",
      "\u001b[1m1465/1465\u001b[0m \u001b[32m━━━━━━━━━━━━━━━━━━━━\u001b[0m\u001b[37m\u001b[0m \u001b[1m495s\u001b[0m 337ms/step - accuracy: 0.6681 - loss: 0.6089 - val_accuracy: 0.6258 - val_loss: 1.6989\n",
      "Epoch 4/10\n",
      "\u001b[1m1465/1465\u001b[0m \u001b[32m━━━━━━━━━━━━━━━━━━━━\u001b[0m\u001b[37m\u001b[0m \u001b[1m499s\u001b[0m 340ms/step - accuracy: 0.6742 - loss: 0.6115 - val_accuracy: 0.6910 - val_loss: 0.5471\n",
      "Epoch 5/10\n",
      "\u001b[1m1465/1465\u001b[0m \u001b[32m━━━━━━━━━━━━━━━━━━━━\u001b[0m\u001b[37m\u001b[0m \u001b[1m509s\u001b[0m 347ms/step - accuracy: 0.7151 - loss: 0.5650 - val_accuracy: 0.6463 - val_loss: 0.5932\n",
      "Epoch 6/10\n",
      "\u001b[1m1465/1465\u001b[0m \u001b[32m━━━━━━━━━━━━━━━━━━━━\u001b[0m\u001b[37m\u001b[0m \u001b[1m506s\u001b[0m 345ms/step - accuracy: 0.7274 - loss: 0.5344 - val_accuracy: 0.8126 - val_loss: 0.4674\n",
      "Epoch 7/10\n",
      "\u001b[1m1465/1465\u001b[0m \u001b[32m━━━━━━━━━━━━━━━━━━━━\u001b[0m\u001b[37m\u001b[0m \u001b[1m513s\u001b[0m 350ms/step - accuracy: 0.7482 - loss: 0.5180 - val_accuracy: 0.6678 - val_loss: 2.7635\n",
      "Epoch 8/10\n",
      "\u001b[1m1465/1465\u001b[0m \u001b[32m━━━━━━━━━━━━━━━━━━━━\u001b[0m\u001b[37m\u001b[0m \u001b[1m551s\u001b[0m 376ms/step - accuracy: 0.7695 - loss: 0.4849 - val_accuracy: 0.8129 - val_loss: 0.4278\n",
      "Epoch 9/10\n",
      "\u001b[1m1465/1465\u001b[0m \u001b[32m━━━━━━━━━━━━━━━━━━━━\u001b[0m\u001b[37m\u001b[0m \u001b[1m523s\u001b[0m 357ms/step - accuracy: 0.7825 - loss: 0.4609 - val_accuracy: 0.6456 - val_loss: 0.6447\n",
      "Epoch 10/10\n",
      "\u001b[1m1465/1465\u001b[0m \u001b[32m━━━━━━━━━━━━━━━━━━━━\u001b[0m\u001b[37m\u001b[0m \u001b[1m505s\u001b[0m 344ms/step - accuracy: 0.7907 - loss: 0.4532 - val_accuracy: 0.8727 - val_loss: 0.2928\n"
     ]
    },
    {
     "data": {
      "text/plain": [
       "<keras.src.callbacks.history.History at 0x32e28fe90>"
      ]
     },
     "execution_count": 10,
     "metadata": {},
     "output_type": "execute_result"
    }
   ],
   "source": [
    "# Train CNN Model\n",
    "cnn_model = build_cnn((224, 224, 3))\n",
    "cnn_model.fit(train_generator, epochs=10, validation_data=validation_generator)"
   ]
  },
  {
   "cell_type": "code",
   "execution_count": 11,
   "id": "14213069",
   "metadata": {},
   "outputs": [
    {
     "name": "stdout",
     "output_type": "stream",
     "text": [
      "\u001b[1m92/92\u001b[0m \u001b[32m━━━━━━━━━━━━━━━━━━━━\u001b[0m\u001b[37m\u001b[0m \u001b[1m10s\u001b[0m 107ms/step\n",
      "CNN Model Validation Accuracy: 0.8726527825196313\n"
     ]
    }
   ],
   "source": [
    "# Evaluate CNN Model\n",
    "cnn_pred_val = cnn_model.predict(X_val)\n",
    "cnn_pred_val = (cnn_pred_val > 0.5).astype(int).flatten()\n",
    "print(\"CNN Model Validation Accuracy:\", accuracy_score(y_val, cnn_pred_val))"
   ]
  },
  {
   "cell_type": "code",
   "execution_count": null,
   "id": "c34e501e",
   "metadata": {},
   "outputs": [],
   "source": []
  },
  {
   "cell_type": "code",
   "execution_count": 12,
   "id": "cbd95578",
   "metadata": {},
   "outputs": [
    {
     "data": {
      "text/html": [
       "<style>#sk-container-id-1 {color: black;}#sk-container-id-1 pre{padding: 0;}#sk-container-id-1 div.sk-toggleable {background-color: white;}#sk-container-id-1 label.sk-toggleable__label {cursor: pointer;display: block;width: 100%;margin-bottom: 0;padding: 0.3em;box-sizing: border-box;text-align: center;}#sk-container-id-1 label.sk-toggleable__label-arrow:before {content: \"▸\";float: left;margin-right: 0.25em;color: #696969;}#sk-container-id-1 label.sk-toggleable__label-arrow:hover:before {color: black;}#sk-container-id-1 div.sk-estimator:hover label.sk-toggleable__label-arrow:before {color: black;}#sk-container-id-1 div.sk-toggleable__content {max-height: 0;max-width: 0;overflow: hidden;text-align: left;background-color: #f0f8ff;}#sk-container-id-1 div.sk-toggleable__content pre {margin: 0.2em;color: black;border-radius: 0.25em;background-color: #f0f8ff;}#sk-container-id-1 input.sk-toggleable__control:checked~div.sk-toggleable__content {max-height: 200px;max-width: 100%;overflow: auto;}#sk-container-id-1 input.sk-toggleable__control:checked~label.sk-toggleable__label-arrow:before {content: \"▾\";}#sk-container-id-1 div.sk-estimator input.sk-toggleable__control:checked~label.sk-toggleable__label {background-color: #d4ebff;}#sk-container-id-1 div.sk-label input.sk-toggleable__control:checked~label.sk-toggleable__label {background-color: #d4ebff;}#sk-container-id-1 input.sk-hidden--visually {border: 0;clip: rect(1px 1px 1px 1px);clip: rect(1px, 1px, 1px, 1px);height: 1px;margin: -1px;overflow: hidden;padding: 0;position: absolute;width: 1px;}#sk-container-id-1 div.sk-estimator {font-family: monospace;background-color: #f0f8ff;border: 1px dotted black;border-radius: 0.25em;box-sizing: border-box;margin-bottom: 0.5em;}#sk-container-id-1 div.sk-estimator:hover {background-color: #d4ebff;}#sk-container-id-1 div.sk-parallel-item::after {content: \"\";width: 100%;border-bottom: 1px solid gray;flex-grow: 1;}#sk-container-id-1 div.sk-label:hover label.sk-toggleable__label {background-color: #d4ebff;}#sk-container-id-1 div.sk-serial::before {content: \"\";position: absolute;border-left: 1px solid gray;box-sizing: border-box;top: 0;bottom: 0;left: 50%;z-index: 0;}#sk-container-id-1 div.sk-serial {display: flex;flex-direction: column;align-items: center;background-color: white;padding-right: 0.2em;padding-left: 0.2em;position: relative;}#sk-container-id-1 div.sk-item {position: relative;z-index: 1;}#sk-container-id-1 div.sk-parallel {display: flex;align-items: stretch;justify-content: center;background-color: white;position: relative;}#sk-container-id-1 div.sk-item::before, #sk-container-id-1 div.sk-parallel-item::before {content: \"\";position: absolute;border-left: 1px solid gray;box-sizing: border-box;top: 0;bottom: 0;left: 50%;z-index: -1;}#sk-container-id-1 div.sk-parallel-item {display: flex;flex-direction: column;z-index: 1;position: relative;background-color: white;}#sk-container-id-1 div.sk-parallel-item:first-child::after {align-self: flex-end;width: 50%;}#sk-container-id-1 div.sk-parallel-item:last-child::after {align-self: flex-start;width: 50%;}#sk-container-id-1 div.sk-parallel-item:only-child::after {width: 0;}#sk-container-id-1 div.sk-dashed-wrapped {border: 1px dashed gray;margin: 0 0.4em 0.5em 0.4em;box-sizing: border-box;padding-bottom: 0.4em;background-color: white;}#sk-container-id-1 div.sk-label label {font-family: monospace;font-weight: bold;display: inline-block;line-height: 1.2em;}#sk-container-id-1 div.sk-label-container {text-align: center;}#sk-container-id-1 div.sk-container {/* jupyter's `normalize.less` sets `[hidden] { display: none; }` but bootstrap.min.css set `[hidden] { display: none !important; }` so we also need the `!important` here to be able to override the default hidden behavior on the sphinx rendered scikit-learn.org. See: https://github.com/scikit-learn/scikit-learn/issues/21755 */display: inline-block !important;position: relative;}#sk-container-id-1 div.sk-text-repr-fallback {display: none;}</style><div id=\"sk-container-id-1\" class=\"sk-top-container\"><div class=\"sk-text-repr-fallback\"><pre>RandomForestClassifier(random_state=42)</pre><b>In a Jupyter environment, please rerun this cell to show the HTML representation or trust the notebook. <br />On GitHub, the HTML representation is unable to render, please try loading this page with nbviewer.org.</b></div><div class=\"sk-container\" hidden><div class=\"sk-item\"><div class=\"sk-estimator sk-toggleable\"><input class=\"sk-toggleable__control sk-hidden--visually\" id=\"sk-estimator-id-1\" type=\"checkbox\" checked><label for=\"sk-estimator-id-1\" class=\"sk-toggleable__label sk-toggleable__label-arrow\">RandomForestClassifier</label><div class=\"sk-toggleable__content\"><pre>RandomForestClassifier(random_state=42)</pre></div></div></div></div></div>"
      ],
      "text/plain": [
       "RandomForestClassifier(random_state=42)"
      ]
     },
     "execution_count": 12,
     "metadata": {},
     "output_type": "execute_result"
    }
   ],
   "source": [
    "# Train Random Forest Model\n",
    "rf_model = RandomForestClassifier(n_estimators=100, random_state=42)\n",
    "rf_model.fit(X_train.reshape(X_train.shape[0], -1), y_train)"
   ]
  },
  {
   "cell_type": "code",
   "execution_count": 13,
   "id": "238b92ef",
   "metadata": {},
   "outputs": [
    {
     "name": "stdout",
     "output_type": "stream",
     "text": [
      "Random Forest Model Validation Accuracy: 0.9102082622055309\n"
     ]
    }
   ],
   "source": [
    "# Evaluate Random Forest Model\n",
    "rf_pred_val = rf_model.predict(X_val.reshape(X_val.shape[0], -1))\n",
    "print(\"Random Forest Model Validation Accuracy:\", accuracy_score(y_val, rf_pred_val))"
   ]
  },
  {
   "cell_type": "code",
   "execution_count": null,
   "id": "f9334847",
   "metadata": {},
   "outputs": [],
   "source": []
  },
  {
   "cell_type": "code",
   "execution_count": 14,
   "id": "6001b916",
   "metadata": {},
   "outputs": [],
   "source": [
    "def build_mlp(input_shape):\n",
    "    model = Sequential([\n",
    "        Flatten(input_shape=input_shape),\n",
    "        Dense(128, activation='relu'),\n",
    "        BatchNormalization(),\n",
    "        Dropout(0.5),\n",
    "        Dense(64, activation='relu'),\n",
    "        BatchNormalization(),\n",
    "        Dropout(0.5),\n",
    "        Dense(1, activation='sigmoid')  # Binary classification\n",
    "    ])\n",
    "    model.compile(optimizer='adam', loss='binary_crossentropy', metrics=['accuracy'])\n",
    "    return model"
   ]
  },
  {
   "cell_type": "code",
   "execution_count": 26,
   "id": "45164596",
   "metadata": {},
   "outputs": [],
   "source": [
    "# Reshape the data for the MLP model\n",
    "X_train_flat = X_train.reshape(X_train.shape[0], -1)\n",
    "X_val_flat = X_val.reshape(X_val.shape[0], -1)\n",
    "X_test_flat = X_test.reshape(X_test.shape[0], -1)"
   ]
  },
  {
   "cell_type": "code",
   "execution_count": 16,
   "id": "e200cc27",
   "metadata": {},
   "outputs": [
    {
     "name": "stderr",
     "output_type": "stream",
     "text": [
      "/Users/jin/anaconda3/lib/python3.11/site-packages/keras/src/layers/reshaping/flatten.py:37: UserWarning: Do not pass an `input_shape`/`input_dim` argument to a layer. When using Sequential models, prefer using an `Input(shape)` object as the first layer in the model instead.\n",
      "  super().__init__(**kwargs)\n"
     ]
    },
    {
     "name": "stdout",
     "output_type": "stream",
     "text": [
      "Epoch 1/10\n",
      "\u001b[1m1465/1465\u001b[0m \u001b[32m━━━━━━━━━━━━━━━━━━━━\u001b[0m\u001b[37m\u001b[0m \u001b[1m39s\u001b[0m 26ms/step - accuracy: 0.5624 - loss: 0.7970 - val_accuracy: 0.6647 - val_loss: 1.7501\n",
      "Epoch 2/10\n",
      "\u001b[1m1465/1465\u001b[0m \u001b[32m━━━━━━━━━━━━━━━━━━━━\u001b[0m\u001b[37m\u001b[0m \u001b[1m38s\u001b[0m 26ms/step - accuracy: 0.6405 - loss: 0.6291 - val_accuracy: 0.6740 - val_loss: 0.6148\n",
      "Epoch 3/10\n",
      "\u001b[1m1465/1465\u001b[0m \u001b[32m━━━━━━━━━━━━━━━━━━━━\u001b[0m\u001b[37m\u001b[0m \u001b[1m38s\u001b[0m 26ms/step - accuracy: 0.6364 - loss: 0.6274 - val_accuracy: 0.6306 - val_loss: 0.6511\n",
      "Epoch 4/10\n",
      "\u001b[1m1465/1465\u001b[0m \u001b[32m━━━━━━━━━━━━━━━━━━━━\u001b[0m\u001b[37m\u001b[0m \u001b[1m38s\u001b[0m 26ms/step - accuracy: 0.6412 - loss: 0.6284 - val_accuracy: 0.6688 - val_loss: 0.6218\n",
      "Epoch 5/10\n",
      "\u001b[1m1465/1465\u001b[0m \u001b[32m━━━━━━━━━━━━━━━━━━━━\u001b[0m\u001b[37m\u001b[0m \u001b[1m39s\u001b[0m 26ms/step - accuracy: 0.6362 - loss: 0.6324 - val_accuracy: 0.6798 - val_loss: 1.0212\n",
      "Epoch 6/10\n",
      "\u001b[1m1465/1465\u001b[0m \u001b[32m━━━━━━━━━━━━━━━━━━━━\u001b[0m\u001b[37m\u001b[0m \u001b[1m39s\u001b[0m 26ms/step - accuracy: 0.6399 - loss: 0.6317 - val_accuracy: 0.6740 - val_loss: 0.6743\n",
      "Epoch 7/10\n",
      "\u001b[1m1465/1465\u001b[0m \u001b[32m━━━━━━━━━━━━━━━━━━━━\u001b[0m\u001b[37m\u001b[0m \u001b[1m38s\u001b[0m 26ms/step - accuracy: 0.6145 - loss: 0.6403 - val_accuracy: 0.6784 - val_loss: 0.6381\n",
      "Epoch 8/10\n",
      "\u001b[1m1465/1465\u001b[0m \u001b[32m━━━━━━━━━━━━━━━━━━━━\u001b[0m\u001b[37m\u001b[0m \u001b[1m39s\u001b[0m 26ms/step - accuracy: 0.6407 - loss: 0.6284 - val_accuracy: 0.6582 - val_loss: 0.6477\n",
      "Epoch 9/10\n",
      "\u001b[1m1465/1465\u001b[0m \u001b[32m━━━━━━━━━━━━━━━━━━━━\u001b[0m\u001b[37m\u001b[0m \u001b[1m39s\u001b[0m 26ms/step - accuracy: 0.6215 - loss: 0.6440 - val_accuracy: 0.6900 - val_loss: 0.6578\n",
      "Epoch 10/10\n",
      "\u001b[1m1465/1465\u001b[0m \u001b[32m━━━━━━━━━━━━━━━━━━━━\u001b[0m\u001b[37m\u001b[0m \u001b[1m38s\u001b[0m 26ms/step - accuracy: 0.6256 - loss: 0.6391 - val_accuracy: 0.6746 - val_loss: 0.6724\n"
     ]
    },
    {
     "data": {
      "text/plain": [
       "<keras.src.callbacks.history.History at 0x3136ecd50>"
      ]
     },
     "execution_count": 16,
     "metadata": {},
     "output_type": "execute_result"
    }
   ],
   "source": [
    "# Build and train the MLP model\n",
    "mlp_model = build_mlp((X_train_flat.shape[1],))\n",
    "mlp_model.fit(X_train_flat, y_train, epochs=10, batch_size=16, validation_data=(X_val_flat, y_val))"
   ]
  },
  {
   "cell_type": "code",
   "execution_count": 19,
   "id": "0c097dc3",
   "metadata": {},
   "outputs": [
    {
     "name": "stdout",
     "output_type": "stream",
     "text": [
      "\u001b[1m92/92\u001b[0m \u001b[32m━━━━━━━━━━━━━━━━━━━━\u001b[0m\u001b[37m\u001b[0m \u001b[1m1s\u001b[0m 5ms/step\n",
      "MLP Model Validation Accuracy: 0.6746329805394332\n"
     ]
    }
   ],
   "source": [
    "# Evaluate the MLP model\n",
    "mlp_pred_val = mlp_model.predict(X_val_flat)\n",
    "mlp_pred_val = (mlp_pred_val > 0.5).astype(int).flatten()\n",
    "print(\"MLP Model Validation Accuracy:\", accuracy_score(y_val, mlp_pred_val))"
   ]
  },
  {
   "cell_type": "code",
   "execution_count": null,
   "id": "deadafae",
   "metadata": {},
   "outputs": [],
   "source": []
  },
  {
   "cell_type": "code",
   "execution_count": 20,
   "id": "3d1440b2",
   "metadata": {},
   "outputs": [],
   "source": [
    "# Second CNN Model with a different architecture or parameters\n",
    "def build_cnn_v2(input_shape):\n",
    "    model = Sequential([\n",
    "        Conv2D(64, (3, 3), activation='relu', input_shape=input_shape),\n",
    "        BatchNormalization(),\n",
    "        MaxPooling2D((2, 2)),\n",
    "        Dropout(0.3),\n",
    "        Conv2D(128, (3, 3), activation='relu'),\n",
    "        BatchNormalization(),\n",
    "        MaxPooling2D((2, 2)),\n",
    "        Dropout(0.3),\n",
    "        Conv2D(256, (3, 3), activation='relu'),\n",
    "        BatchNormalization(),\n",
    "        MaxPooling2D((2, 2)),\n",
    "        Dropout(0.3),\n",
    "        Flatten(),\n",
    "        Dense(512, activation='relu'),\n",
    "        Dropout(0.5),\n",
    "        Dense(1, activation='sigmoid')\n",
    "    ])\n",
    "    model.compile(optimizer='adam', loss='binary_crossentropy', metrics=['accuracy'])\n",
    "    return model"
   ]
  },
  {
   "cell_type": "code",
   "execution_count": null,
   "id": "a4ff1575",
   "metadata": {},
   "outputs": [],
   "source": []
  },
  {
   "cell_type": "code",
   "execution_count": 22,
   "id": "1ffe247a",
   "metadata": {},
   "outputs": [
    {
     "name": "stdout",
     "output_type": "stream",
     "text": [
      "Epoch 1/10\n",
      "\u001b[1m1465/1465\u001b[0m \u001b[32m━━━━━━━━━━━━━━━━━━━━\u001b[0m\u001b[37m\u001b[0m \u001b[1m1321s\u001b[0m 900ms/step - accuracy: 0.6262 - loss: 9.2602 - val_accuracy: 0.7747 - val_loss: 0.5450\n",
      "Epoch 2/10\n",
      "\u001b[1m1465/1465\u001b[0m \u001b[32m━━━━━━━━━━━━━━━━━━━━\u001b[0m\u001b[37m\u001b[0m \u001b[1m1305s\u001b[0m 890ms/step - accuracy: 0.6769 - loss: 0.6152 - val_accuracy: 0.6664 - val_loss: 0.6392\n",
      "Epoch 3/10\n",
      "\u001b[1m1465/1465\u001b[0m \u001b[32m━━━━━━━━━━━━━━━━━━━━\u001b[0m\u001b[37m\u001b[0m \u001b[1m1314s\u001b[0m 896ms/step - accuracy: 0.6549 - loss: 0.6333 - val_accuracy: 0.7395 - val_loss: 0.5562\n",
      "Epoch 4/10\n",
      "\u001b[1m1465/1465\u001b[0m \u001b[32m━━━━━━━━━━━━━━━━━━━━\u001b[0m\u001b[37m\u001b[0m \u001b[1m1315s\u001b[0m 897ms/step - accuracy: 0.6326 - loss: 0.6490 - val_accuracy: 0.7163 - val_loss: 0.5563\n",
      "Epoch 5/10\n",
      "\u001b[1m1465/1465\u001b[0m \u001b[32m━━━━━━━━━━━━━━━━━━━━\u001b[0m\u001b[37m\u001b[0m \u001b[1m1347s\u001b[0m 919ms/step - accuracy: 0.6468 - loss: 0.6274 - val_accuracy: 0.5702 - val_loss: 0.6675\n",
      "Epoch 6/10\n",
      "\u001b[1m1465/1465\u001b[0m \u001b[32m━━━━━━━━━━━━━━━━━━━━\u001b[0m\u001b[37m\u001b[0m \u001b[1m1328s\u001b[0m 906ms/step - accuracy: 0.6387 - loss: 0.6141 - val_accuracy: 0.7757 - val_loss: 0.5287\n",
      "Epoch 7/10\n",
      "\u001b[1m1465/1465\u001b[0m \u001b[32m━━━━━━━━━━━━━━━━━━━━\u001b[0m\u001b[37m\u001b[0m \u001b[1m1359s\u001b[0m 927ms/step - accuracy: 0.6640 - loss: 0.5983 - val_accuracy: 0.6668 - val_loss: 0.5925\n",
      "Epoch 8/10\n",
      "\u001b[1m1465/1465\u001b[0m \u001b[32m━━━━━━━━━━━━━━━━━━━━\u001b[0m\u001b[37m\u001b[0m \u001b[1m1333s\u001b[0m 909ms/step - accuracy: 0.6557 - loss: 0.6023 - val_accuracy: 0.7337 - val_loss: 0.5562\n",
      "Epoch 9/10\n",
      "\u001b[1m1465/1465\u001b[0m \u001b[32m━━━━━━━━━━━━━━━━━━━━\u001b[0m\u001b[37m\u001b[0m \u001b[1m1367s\u001b[0m 933ms/step - accuracy: 0.7011 - loss: 0.5777 - val_accuracy: 0.7474 - val_loss: 0.5113\n",
      "Epoch 10/10\n",
      "\u001b[1m1465/1465\u001b[0m \u001b[32m━━━━━━━━━━━━━━━━━━━━\u001b[0m\u001b[37m\u001b[0m \u001b[1m1350s\u001b[0m 921ms/step - accuracy: 0.7231 - loss: 0.5419 - val_accuracy: 0.6524 - val_loss: 0.6084\n",
      "\u001b[1m92/92\u001b[0m \u001b[32m━━━━━━━━━━━━━━━━━━━━\u001b[0m\u001b[37m\u001b[0m \u001b[1m26s\u001b[0m 280ms/step\n",
      "Second CNN Model Validation Accuracy: 0.6524411061795835\n"
     ]
    }
   ],
   "source": [
    "# Train and evaluate the second CNN model\n",
    "cnn_model_v2 = build_cnn_v2((224, 224, 3))\n",
    "cnn_model_v2.fit(train_generator, epochs=10, validation_data=validation_generator)\n",
    "cnn_v2_pred_val = cnn_model_v2.predict(X_val)\n",
    "cnn_v2_pred_val = (cnn_v2_pred_val > 0.5).astype(int).flatten()\n",
    "print(\"Second CNN Model Validation Accuracy:\", accuracy_score(y_val, cnn_v2_pred_val))"
   ]
  },
  {
   "cell_type": "code",
   "execution_count": null,
   "id": "c9e345d6",
   "metadata": {},
   "outputs": [],
   "source": []
  },
  {
   "cell_type": "code",
   "execution_count": 23,
   "id": "29a73462",
   "metadata": {},
   "outputs": [],
   "source": [
    "# Second MLP Model with different parameters\n",
    "def build_mlp_v2(input_shape):\n",
    "    model = Sequential([\n",
    "        Flatten(input_shape=input_shape),\n",
    "        Dense(256, activation='relu'),\n",
    "        BatchNormalization(),\n",
    "        Dropout(0.4),\n",
    "        Dense(128, activation='relu'),\n",
    "        BatchNormalization(),\n",
    "        Dropout(0.4),\n",
    "        Dense(1, activation='sigmoid')  # Binary classification\n",
    "    ])\n",
    "    model.compile(optimizer='adam', loss='binary_crossentropy', metrics=['accuracy'])\n",
    "    return model"
   ]
  },
  {
   "cell_type": "code",
   "execution_count": 25,
   "id": "efc8ead5",
   "metadata": {},
   "outputs": [
    {
     "name": "stdout",
     "output_type": "stream",
     "text": [
      "Epoch 1/10\n",
      "\u001b[1m1465/1465\u001b[0m \u001b[32m━━━━━━━━━━━━━━━━━━━━\u001b[0m\u001b[37m\u001b[0m \u001b[1m143s\u001b[0m 97ms/step - accuracy: 0.5826 - loss: 0.7660 - val_accuracy: 0.6658 - val_loss: 0.6146\n",
      "Epoch 2/10\n",
      "\u001b[1m1465/1465\u001b[0m \u001b[32m━━━━━━━━━━━━━━━━━━━━\u001b[0m\u001b[37m\u001b[0m \u001b[1m141s\u001b[0m 96ms/step - accuracy: 0.6488 - loss: 0.6188 - val_accuracy: 0.6664 - val_loss: 0.6988\n",
      "Epoch 3/10\n",
      "\u001b[1m1465/1465\u001b[0m \u001b[32m━━━━━━━━━━━━━━━━━━━━\u001b[0m\u001b[37m\u001b[0m \u001b[1m141s\u001b[0m 96ms/step - accuracy: 0.6675 - loss: 0.6004 - val_accuracy: 0.5582 - val_loss: 1.1058\n",
      "Epoch 4/10\n",
      "\u001b[1m1465/1465\u001b[0m \u001b[32m━━━━━━━━━━━━━━━━━━━━\u001b[0m\u001b[37m\u001b[0m \u001b[1m141s\u001b[0m 96ms/step - accuracy: 0.6645 - loss: 0.6031 - val_accuracy: 0.7340 - val_loss: 0.7512\n",
      "Epoch 5/10\n",
      "\u001b[1m1465/1465\u001b[0m \u001b[32m━━━━━━━━━━━━━━━━━━━━\u001b[0m\u001b[37m\u001b[0m \u001b[1m139s\u001b[0m 95ms/step - accuracy: 0.6620 - loss: 0.6020 - val_accuracy: 0.6869 - val_loss: 0.8426\n",
      "Epoch 6/10\n",
      "\u001b[1m1465/1465\u001b[0m \u001b[32m━━━━━━━━━━━━━━━━━━━━\u001b[0m\u001b[37m\u001b[0m \u001b[1m139s\u001b[0m 95ms/step - accuracy: 0.6527 - loss: 0.6052 - val_accuracy: 0.7197 - val_loss: 1.4893\n",
      "Epoch 7/10\n",
      "\u001b[1m1465/1465\u001b[0m \u001b[32m━━━━━━━━━━━━━━━━━━━━\u001b[0m\u001b[37m\u001b[0m \u001b[1m141s\u001b[0m 96ms/step - accuracy: 0.6711 - loss: 0.5944 - val_accuracy: 0.7207 - val_loss: 1.1747\n",
      "Epoch 8/10\n",
      "\u001b[1m1465/1465\u001b[0m \u001b[32m━━━━━━━━━━━━━━━━━━━━\u001b[0m\u001b[37m\u001b[0m \u001b[1m141s\u001b[0m 96ms/step - accuracy: 0.6650 - loss: 0.5965 - val_accuracy: 0.7221 - val_loss: 1.0781\n",
      "Epoch 9/10\n",
      "\u001b[1m1465/1465\u001b[0m \u001b[32m━━━━━━━━━━━━━━━━━━━━\u001b[0m\u001b[37m\u001b[0m \u001b[1m140s\u001b[0m 95ms/step - accuracy: 0.6829 - loss: 0.5888 - val_accuracy: 0.6907 - val_loss: 3.4916\n",
      "Epoch 10/10\n",
      "\u001b[1m1465/1465\u001b[0m \u001b[32m━━━━━━━━━━━━━━━━━━━━\u001b[0m\u001b[37m\u001b[0m \u001b[1m141s\u001b[0m 96ms/step - accuracy: 0.6781 - loss: 0.5907 - val_accuracy: 0.6555 - val_loss: 1.3624\n",
      "\u001b[1m92/92\u001b[0m \u001b[32m━━━━━━━━━━━━━━━━━━━━\u001b[0m\u001b[37m\u001b[0m \u001b[1m1s\u001b[0m 9ms/step\n",
      "Second MLP Model Validation Accuracy: 0.6555138272447935\n"
     ]
    }
   ],
   "source": [
    "# Train and evaluate the second MLP model\n",
    "mlp_model_v2 = build_mlp_v2((X_train_flat.shape[1],))\n",
    "mlp_model_v2.fit(X_train_flat, y_train, epochs=10, batch_size=16, validation_data=(X_val_flat, y_val))\n",
    "mlp_v2_pred_val = mlp_model_v2.predict(X_val_flat)\n",
    "mlp_v2_pred_val = (mlp_v2_pred_val > 0.5).astype(int).flatten()\n",
    "print(\"Second MLP Model Validation Accuracy:\", accuracy_score(y_val, mlp_v2_pred_val))"
   ]
  },
  {
   "cell_type": "markdown",
   "id": "168a2fba",
   "metadata": {},
   "source": [
    "### ENSEMBLE TIME"
   ]
  },
  {
   "cell_type": "code",
   "execution_count": 27,
   "id": "ce5fb367",
   "metadata": {},
   "outputs": [],
   "source": [
    "# Combine models in an ensemble\n",
    "models = [cnn_model, cnn_model_v2, rf_model, mlp_model, mlp_model_v2]"
   ]
  },
  {
   "cell_type": "code",
   "execution_count": 30,
   "id": "119c91ba",
   "metadata": {},
   "outputs": [
    {
     "name": "stdout",
     "output_type": "stream",
     "text": [
      "\u001b[1m733/733\u001b[0m \u001b[32m━━━━━━━━━━━━━━━━━━━━\u001b[0m\u001b[37m\u001b[0m \u001b[1m80s\u001b[0m 107ms/step\n",
      "\u001b[1m733/733\u001b[0m \u001b[32m━━━━━━━━━━━━━━━━━━━━\u001b[0m\u001b[37m\u001b[0m \u001b[1m208s\u001b[0m 282ms/step\n",
      "\u001b[1m733/733\u001b[0m \u001b[32m━━━━━━━━━━━━━━━━━━━━\u001b[0m\u001b[37m\u001b[0m \u001b[1m4s\u001b[0m 5ms/step\n",
      "\u001b[1m733/733\u001b[0m \u001b[32m━━━━━━━━━━━━━━━━━━━━\u001b[0m\u001b[37m\u001b[0m \u001b[1m6s\u001b[0m 8ms/step\n"
     ]
    }
   ],
   "source": [
    "# Generate predictions for the training set using each model\n",
    "train_predictions_stack = np.zeros((len(X_train_flat), len(models)))\n",
    "\n",
    "for i, model in enumerate(models):\n",
    "    if isinstance(model, tf.keras.Model):\n",
    "        if len(model.input_shape) == 2:  # MLP model\n",
    "            predictions = model.predict(X_train_flat).flatten()\n",
    "        else:  # CNN model\n",
    "            predictions = model.predict(X_train).flatten()\n",
    "    else:\n",
    "        predictions = model.predict(X_train_flat).flatten()\n",
    "    \n",
    "    train_predictions_stack[:, i] = predictions"
   ]
  },
  {
   "cell_type": "code",
   "execution_count": 31,
   "id": "50a8e208",
   "metadata": {},
   "outputs": [
    {
     "name": "stdout",
     "output_type": "stream",
     "text": [
      "\u001b[1m92/92\u001b[0m \u001b[32m━━━━━━━━━━━━━━━━━━━━\u001b[0m\u001b[37m\u001b[0m \u001b[1m10s\u001b[0m 104ms/step\n",
      "\u001b[1m92/92\u001b[0m \u001b[32m━━━━━━━━━━━━━━━━━━━━\u001b[0m\u001b[37m\u001b[0m \u001b[1m27s\u001b[0m 276ms/step\n",
      "\u001b[1m92/92\u001b[0m \u001b[32m━━━━━━━━━━━━━━━━━━━━\u001b[0m\u001b[37m\u001b[0m \u001b[1m0s\u001b[0m 5ms/step\n",
      "\u001b[1m92/92\u001b[0m \u001b[32m━━━━━━━━━━━━━━━━━━━━\u001b[0m\u001b[37m\u001b[0m \u001b[1m1s\u001b[0m 9ms/step\n"
     ]
    }
   ],
   "source": [
    "# Generate predictions for the test set using each model\n",
    "test_predictions_stack = np.zeros((len(X_test), len(models)))\n",
    "\n",
    "for i, model in enumerate(models):\n",
    "    if isinstance(model, tf.keras.Model):\n",
    "        if len(model.input_shape) == 2:  # MLP model\n",
    "            predictions = model.predict(X_test_flat).flatten()\n",
    "        else:  # CNN model\n",
    "            predictions = model.predict(X_test).flatten()\n",
    "    else:\n",
    "        predictions = model.predict(X_test_flat).flatten()\n",
    "    \n",
    "    test_predictions_stack[:, i] = predictions"
   ]
  },
  {
   "cell_type": "code",
   "execution_count": 32,
   "id": "1ccec162",
   "metadata": {},
   "outputs": [],
   "source": [
    "# Train a Gradient Boosting model as the meta-model\n",
    "meta_model = GradientBoostingClassifier(random_state=42)\n",
    "meta_model.fit(train_predictions_stack, y_train)\n",
    "\n",
    "# Use the meta-model to make the final prediction\n",
    "meta_predictions = meta_model.predict(test_predictions_stack)"
   ]
  },
  {
   "cell_type": "code",
   "execution_count": 35,
   "id": "04f5723d",
   "metadata": {},
   "outputs": [
    {
     "name": "stdout",
     "output_type": "stream",
     "text": [
      "Stacking Test Accuracy: 89.59%\n",
      "Confusion Matrix:\n",
      "[[1214  148]\n",
      " [ 157 1411]]\n",
      "Classification Report\n",
      "              precision    recall  f1-score   support\n",
      "\n",
      "           0       0.89      0.89      0.89      1362\n",
      "           1       0.91      0.90      0.90      1568\n",
      "\n",
      "    accuracy                           0.90      2930\n",
      "   macro avg       0.90      0.90      0.90      2930\n",
      "weighted avg       0.90      0.90      0.90      2930\n",
      "\n"
     ]
    }
   ],
   "source": [
    "# Evaluate the stacking model\n",
    "stacking_accuracy = accuracy_score(y_test, meta_predictions)\n",
    "stacking_conf_matrix = confusion_matrix(y_test, meta_predictions)\n",
    "stacking_class_report = classification_report(y_test, meta_predictions, zero_division=0)\n",
    "\n",
    "print(f\"Stacking Test Accuracy: {stacking_accuracy * 100:.2f}%\")\n",
    "print(\"Confusion Matrix:\")\n",
    "print(stacking_conf_matrix)\n",
    "print(\"Classification Report\")\n",
    "print(stacking_class_report)"
   ]
  },
  {
   "cell_type": "code",
   "execution_count": 37,
   "id": "57f0c61f",
   "metadata": {},
   "outputs": [],
   "source": [
    "models_dir = os.path.join(os.path.dirname(os.getcwd()), 'models')"
   ]
  },
  {
   "cell_type": "code",
   "execution_count": 39,
   "id": "ecd7d3fd",
   "metadata": {},
   "outputs": [
    {
     "data": {
      "text/plain": [
       "['/Users/jin/Desktop/Rotten Vs Fresh Fruit Prediction/models/meta_model.pkl']"
      ]
     },
     "execution_count": 39,
     "metadata": {},
     "output_type": "execute_result"
    }
   ],
   "source": [
    "# Save Keras models\n",
    "cnn_model.save(os.path.join(models_dir, 'cnn_model.keras'))\n",
    "cnn_model_v2.save(os.path.join(models_dir, 'cnn_model_v2.keras'))\n",
    "mlp_model.save(os.path.join(models_dir, 'mlp_model.keras'))\n",
    "mlp_model_v2.save(os.path.join(models_dir, 'mlp_model_v2.keras'))\n",
    "\n",
    "# Save non-Keras models\n",
    "joblib.dump(rf_model, os.path.join(models_dir, 'rf_model.pkl'))\n",
    "joblib.dump(meta_model, os.path.join(models_dir, 'meta_model.pkl'))"
   ]
  },
  {
   "cell_type": "code",
   "execution_count": null,
   "id": "1282dd96",
   "metadata": {},
   "outputs": [],
   "source": []
  }
 ],
 "metadata": {
  "kernelspec": {
   "display_name": "Python 3 (ipykernel)",
   "language": "python",
   "name": "python3"
  },
  "language_info": {
   "codemirror_mode": {
    "name": "ipython",
    "version": 3
   },
   "file_extension": ".py",
   "mimetype": "text/x-python",
   "name": "python",
   "nbconvert_exporter": "python",
   "pygments_lexer": "ipython3",
   "version": "3.11.5"
  }
 },
 "nbformat": 4,
 "nbformat_minor": 5
}
