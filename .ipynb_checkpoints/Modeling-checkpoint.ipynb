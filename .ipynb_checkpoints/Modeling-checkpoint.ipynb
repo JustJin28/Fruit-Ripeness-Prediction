{
 "cells": [
  {
   "metadata": {},
   "cell_type": "raw",
   "source": "",
   "id": "54767ad41beceefb"
  }
 ],
 "metadata": {},
 "nbformat": 4,
 "nbformat_minor": 5
}
